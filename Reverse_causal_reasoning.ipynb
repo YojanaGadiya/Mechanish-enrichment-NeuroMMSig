{
 "cells": [
  {
   "cell_type": "code",
   "execution_count": 64,
   "metadata": {},
   "outputs": [],
   "source": [
    "import networkx as nx\n",
    "import random\n",
    "import numpy as np"
   ]
  },
  {
   "cell_type": "code",
   "execution_count": 65,
   "metadata": {},
   "outputs": [],
   "source": [
    "#data\n",
    "G = nx.read_graphml('test.graphml') #graph\n",
    "\n",
    "#fold-change dict\n",
    "fold_change = {}\n",
    "k = list(range(0,5))\n",
    "for i in G.nodes():\n",
    "    fold_change[i] = random.choice(k)        "
   ]
  },
  {
   "cell_type": "code",
   "execution_count": 97,
   "metadata": {},
   "outputs": [],
   "source": [
    "def overlay(graph, fold_change_dict):\n",
    "    '''Overlaying the fold-change data onto the graph.'''\n",
    "    threshold = 2 #arbitary for test dict\n",
    "    for i in graph.nodes():\n",
    "        if fold_change_dict[i] > threshold: #increased expression\n",
    "            graph.add_node(i, change = 1)\n",
    "        elif fold_change_dict[i] < threshold: #decreased expression\n",
    "            graph.add_node(i, change = -1)\n",
    "        #no change \n",
    "    return graph\n",
    "\n",
    "def shortest_path(graph,hyp_node):\n",
    "    '''Returning the shorstest path of the hype nodes with all the other nodes.'''\n",
    "    return nx.single_source_shortest_path(graph,hyp_node)\n",
    "\n",
    "def edge_label_value(graph,path_list):\n",
    "    '''Return the product of the edges value of the path.'''\n",
    "    if len(path_list) == 1:\n",
    "        return 0\n",
    "    else:\n",
    "        edge = {'increase' : 1, 'decrease' : -1}\n",
    "        edge_list = []\n",
    "        \n",
    "        for i in range(len(path_list) - 1):\n",
    "            k = graph.edges[path_list[i], path_list[i+1]] #edge dictionary attribute\n",
    "            edge_list.append(edge[k['Relation']])\n",
    "        return np.prod(edge_list)\n",
    "\n",
    "def calculate_concordance(graph,hyp_node):\n",
    "    if hyp_node not in graph:\n",
    "        raise ValueError('Node not preset in graph.')\n",
    "    else:\n",
    "        concordance_count = 0\n",
    "        non_concordance_count = 0\n",
    "        \n",
    "        path_dict = shortest_path(graph,hyp_node)\n",
    "        for i in path_dict.keys():\n",
    "            print(i)\n",
    "            path = path_dict[i] #path to travel\n",
    "            #print(path)\n",
    "            edge_val = edge_label_value(graph,path)\n",
    "            #print(edge_val)\n",
    "            node_val = node_label_value(graph,path)"
   ]
  },
  {
   "cell_type": "code",
   "execution_count": 104,
   "metadata": {},
   "outputs": [],
   "source": [
    "def node_label_value(graph,path_list):\n",
    "    if len(path_list) == 1:\n",
    "        return 0\n",
    "    else:\n",
    "        node_list = []\n",
    "        print(path_list[0], path_list[-1])\n",
    "        for i,j in graph.nodes.data():\n",
    "            if i == path_list[0] or i == path_list[-1]:\n",
    "                node_list.append(j['change'])\n",
    "        print(node_list)\n",
    "        #return np.prod(edge_list)\n",
    "    "
   ]
  },
  {
   "cell_type": "code",
   "execution_count": 105,
   "metadata": {
    "scrolled": false
   },
   "outputs": [
    {
     "name": "stdout",
     "output_type": "stream",
     "text": [
      "IFNG\n",
      "CALM1\n",
      "IFNG CALM1\n",
      "[-1, -1]\n",
      "CALM2\n",
      "IFNG CALM2\n"
     ]
    },
    {
     "ename": "KeyError",
     "evalue": "'change'",
     "output_type": "error",
     "traceback": [
      "\u001b[1;31m---------------------------------------------------------------------------\u001b[0m",
      "\u001b[1;31mKeyError\u001b[0m                                  Traceback (most recent call last)",
      "\u001b[1;32m<ipython-input-105-c13ee72a9ec4>\u001b[0m in \u001b[0;36m<module>\u001b[1;34m\u001b[0m\n\u001b[0;32m      1\u001b[0m \u001b[0moverlay_graph\u001b[0m \u001b[1;33m=\u001b[0m \u001b[0moverlay\u001b[0m\u001b[1;33m(\u001b[0m\u001b[0mG\u001b[0m\u001b[1;33m,\u001b[0m \u001b[0mfold_change\u001b[0m\u001b[1;33m)\u001b[0m\u001b[1;33m\u001b[0m\u001b[1;33m\u001b[0m\u001b[0m\n\u001b[1;32m----> 2\u001b[1;33m \u001b[0mcalculate_concordance\u001b[0m\u001b[1;33m(\u001b[0m\u001b[0moverlay_graph\u001b[0m\u001b[1;33m,\u001b[0m \u001b[1;34m'IFNG'\u001b[0m\u001b[1;33m)\u001b[0m\u001b[1;33m\u001b[0m\u001b[1;33m\u001b[0m\u001b[0m\n\u001b[0m",
      "\u001b[1;32m<ipython-input-97-8dbcb2094097>\u001b[0m in \u001b[0;36mcalculate_concordance\u001b[1;34m(graph, hyp_node)\u001b[0m\n\u001b[0;32m     41\u001b[0m             \u001b[0medge_val\u001b[0m \u001b[1;33m=\u001b[0m \u001b[0medge_label_value\u001b[0m\u001b[1;33m(\u001b[0m\u001b[0mgraph\u001b[0m\u001b[1;33m,\u001b[0m\u001b[0mpath\u001b[0m\u001b[1;33m)\u001b[0m\u001b[1;33m\u001b[0m\u001b[1;33m\u001b[0m\u001b[0m\n\u001b[0;32m     42\u001b[0m             \u001b[1;31m#print(edge_val)\u001b[0m\u001b[1;33m\u001b[0m\u001b[1;33m\u001b[0m\u001b[1;33m\u001b[0m\u001b[0m\n\u001b[1;32m---> 43\u001b[1;33m             \u001b[0mnode_val\u001b[0m \u001b[1;33m=\u001b[0m \u001b[0mnode_label_value\u001b[0m\u001b[1;33m(\u001b[0m\u001b[0mgraph\u001b[0m\u001b[1;33m,\u001b[0m\u001b[0mpath\u001b[0m\u001b[1;33m)\u001b[0m\u001b[1;33m\u001b[0m\u001b[1;33m\u001b[0m\u001b[0m\n\u001b[0m",
      "\u001b[1;32m<ipython-input-104-cf8376303869>\u001b[0m in \u001b[0;36mnode_label_value\u001b[1;34m(graph, path_list)\u001b[0m\n\u001b[0;32m      7\u001b[0m         \u001b[1;32mfor\u001b[0m \u001b[0mi\u001b[0m\u001b[1;33m,\u001b[0m\u001b[0mj\u001b[0m \u001b[1;32min\u001b[0m \u001b[0mgraph\u001b[0m\u001b[1;33m.\u001b[0m\u001b[0mnodes\u001b[0m\u001b[1;33m.\u001b[0m\u001b[0mdata\u001b[0m\u001b[1;33m(\u001b[0m\u001b[1;33m)\u001b[0m\u001b[1;33m:\u001b[0m\u001b[1;33m\u001b[0m\u001b[1;33m\u001b[0m\u001b[0m\n\u001b[0;32m      8\u001b[0m             \u001b[1;32mif\u001b[0m \u001b[0mi\u001b[0m \u001b[1;33m==\u001b[0m \u001b[0mpath_list\u001b[0m\u001b[1;33m[\u001b[0m\u001b[1;36m0\u001b[0m\u001b[1;33m]\u001b[0m \u001b[1;32mor\u001b[0m \u001b[0mi\u001b[0m \u001b[1;33m==\u001b[0m \u001b[0mpath_list\u001b[0m\u001b[1;33m[\u001b[0m\u001b[1;33m-\u001b[0m\u001b[1;36m1\u001b[0m\u001b[1;33m]\u001b[0m\u001b[1;33m:\u001b[0m\u001b[1;33m\u001b[0m\u001b[1;33m\u001b[0m\u001b[0m\n\u001b[1;32m----> 9\u001b[1;33m                 \u001b[0mnode_list\u001b[0m\u001b[1;33m.\u001b[0m\u001b[0mappend\u001b[0m\u001b[1;33m(\u001b[0m\u001b[0mj\u001b[0m\u001b[1;33m[\u001b[0m\u001b[1;34m'change'\u001b[0m\u001b[1;33m]\u001b[0m\u001b[1;33m)\u001b[0m\u001b[1;33m\u001b[0m\u001b[1;33m\u001b[0m\u001b[0m\n\u001b[0m\u001b[0;32m     10\u001b[0m         \u001b[0mprint\u001b[0m\u001b[1;33m(\u001b[0m\u001b[0mnode_list\u001b[0m\u001b[1;33m)\u001b[0m\u001b[1;33m\u001b[0m\u001b[1;33m\u001b[0m\u001b[0m\n\u001b[0;32m     11\u001b[0m         \u001b[1;31m#return np.prod(edge_list)\u001b[0m\u001b[1;33m\u001b[0m\u001b[1;33m\u001b[0m\u001b[1;33m\u001b[0m\u001b[0m\n",
      "\u001b[1;31mKeyError\u001b[0m: 'change'"
     ]
    }
   ],
   "source": [
    "overlay_graph = overlay(G, fold_change)\n",
    "calculate_concordance(overlay_graph, 'IFNG')   "
   ]
  },
  {
   "cell_type": "code",
   "execution_count": 79,
   "metadata": {},
   "outputs": [
    {
     "name": "stdout",
     "output_type": "stream",
     "text": [
      "0\n"
     ]
    }
   ],
   "source": []
  },
  {
   "cell_type": "code",
   "execution_count": null,
   "metadata": {},
   "outputs": [],
   "source": []
  }
 ],
 "metadata": {
  "kernelspec": {
   "display_name": "Python 3",
   "language": "python",
   "name": "python3"
  },
  "language_info": {
   "codemirror_mode": {
    "name": "ipython",
    "version": 3
   },
   "file_extension": ".py",
   "mimetype": "text/x-python",
   "name": "python",
   "nbconvert_exporter": "python",
   "pygments_lexer": "ipython3",
   "version": "3.7.5"
  }
 },
 "nbformat": 4,
 "nbformat_minor": 2
}
