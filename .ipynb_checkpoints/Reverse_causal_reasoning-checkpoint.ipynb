{
 "cells": [
  {
   "cell_type": "code",
   "execution_count": 1,
   "metadata": {},
   "outputs": [],
   "source": [
    "import networkx as nx\n",
    "import random\n",
    "import numpy as np"
   ]
  },
  {
   "cell_type": "code",
   "execution_count": 2,
   "metadata": {},
   "outputs": [],
   "source": [
    "#data\n",
    "G = nx.read_graphml('test.graphml') #graph\n",
    "\n",
    "#fold-change dict\n",
    "fold_change = {}\n",
    "k = list(range(0,5))\n",
    "for i in G.nodes():\n",
    "    fold_change[i] = random.choice(k)        "
   ]
  },
  {
   "cell_type": "code",
   "execution_count": 3,
   "metadata": {},
   "outputs": [],
   "source": [
    "def overlay(graph, fold_change_dict):\n",
    "    '''Overlaying the fold-change data onto the graph.'''\n",
    "    threshold = 2 #arbitary for test dict\n",
    "    for i in graph.nodes():\n",
    "        if fold_change_dict[i] > threshold: #increased expression\n",
    "            graph.add_node(i, change = 1)\n",
    "        elif fold_change_dict[i] < threshold: #decreased expression\n",
    "            graph.add_node(i, change = -1)\n",
    "        #no change \n",
    "    return graph"
   ]
  },
  {
   "cell_type": "code",
   "execution_count": 4,
   "metadata": {},
   "outputs": [],
   "source": [
    "def shortest_path(graph,hyp_node):\n",
    "    '''Returning the shorstest path of the hype nodes with all the other nodes.'''\n",
    "    return nx.single_source_shortest_path(graph,hyp_node)"
   ]
  },
  {
   "cell_type": "code",
   "execution_count": 25,
   "metadata": {},
   "outputs": [],
   "source": [
    "def edge_label_value(graph,path_list):\n",
    "    if len(path_list) == 0:\n",
    "        return 0\n",
    "    else:\n",
    "        edge = {'increase' : 1, 'decrease' : -1}\n",
    "        edge_list = []\n",
    "        \n",
    "        for i in range(len(path_list) - 1):\n",
    "            k = G.edges[path_list[i], path_list[i+1]] #edge dictionary attribute\n",
    "            edge_list.append(edge[k['Relation']])\n",
    "        print(edge_list)"
   ]
  },
  {
   "cell_type": "markdown",
   "metadata": {},
   "source": [
    "def node_label_value"
   ]
  },
  {
   "cell_type": "code",
   "execution_count": 26,
   "metadata": {},
   "outputs": [],
   "source": [
    "def calculate_concordance(graph,hyp_node):\n",
    "    if hyp_node not in graph:\n",
    "        raise ValueError('Node not preset in graph.')\n",
    "    else:\n",
    "        path_dict = shortest_path(graph,hyp_node)\n",
    "        for i in path_dict.keys():\n",
    "            path = path_dict[i] #path to travel\n",
    "            #print(path)\n",
    "            edge_val = edge_label_value(graph,path)\n",
    "                "
   ]
  },
  {
   "cell_type": "code",
   "execution_count": 27,
   "metadata": {},
   "outputs": [
    {
     "name": "stdout",
     "output_type": "stream",
     "text": [
      "[]\n",
      "[-1]\n",
      "[-1]\n",
      "[-1]\n",
      "[-1]\n",
      "[-1]\n",
      "[-1]\n",
      "[-1]\n",
      "[-1]\n",
      "[1]\n",
      "[1]\n",
      "[1]\n",
      "[-1]\n",
      "[-1]\n",
      "[-1]\n",
      "[-1]\n",
      "[-1]\n",
      "[1]\n",
      "[1]\n",
      "[-1]\n",
      "[-1, 1]\n",
      "[-1, -1]\n",
      "[-1, -1]\n",
      "[-1, 1]\n",
      "[-1, -1]\n",
      "[-1, -1]\n",
      "[-1, -1]\n",
      "[-1, -1]\n",
      "[-1, -1]\n",
      "[-1, -1]\n",
      "[-1, -1, 1]\n",
      "[-1, -1, 1]\n",
      "[-1, -1, 1]\n",
      "[-1, -1, -1]\n"
     ]
    }
   ],
   "source": [
    "overlay_graph = overlay(G, fold_change)\n",
    "calculate_concordance(overlay_graph, 'IFNG')   "
   ]
  },
  {
   "cell_type": "code",
   "execution_count": null,
   "metadata": {},
   "outputs": [],
   "source": []
  }
 ],
 "metadata": {
  "kernelspec": {
   "display_name": "Python 3",
   "language": "python",
   "name": "python3"
  },
  "language_info": {
   "codemirror_mode": {
    "name": "ipython",
    "version": 3
   },
   "file_extension": ".py",
   "mimetype": "text/x-python",
   "name": "python",
   "nbconvert_exporter": "python",
   "pygments_lexer": "ipython3",
   "version": "3.7.5"
  }
 },
 "nbformat": 4,
 "nbformat_minor": 2
}
